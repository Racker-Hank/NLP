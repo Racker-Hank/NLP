{
 "cells": [
  {
   "cell_type": "markdown",
   "metadata": {},
   "source": [
    "#### Name: Tran Dinh Gia Khanh - 20020141 - INT3406E_41"
   ]
  },
  {
   "cell_type": "markdown",
   "metadata": {},
   "source": [
    "# Programming Assignment 1 Report"
   ]
  },
  {
   "cell_type": "markdown",
   "metadata": {},
   "source": [
    "# Data Processing"
   ]
  },
  {
   "cell_type": "code",
   "execution_count": 2,
   "metadata": {},
   "outputs": [],
   "source": [
    "import matplotlib.pyplot as plt\n",
    "import pandas as pd\n",
    "import numpy as np"
   ]
  },
  {
   "cell_type": "markdown",
   "metadata": {},
   "source": [
    "## w2v"
   ]
  },
  {
   "cell_type": "code",
   "execution_count": 3,
   "metadata": {},
   "outputs": [
    {
     "name": "stderr",
     "output_type": "stream",
     "text": [
      "C:\\Users\\DELL\\AppData\\Local\\Temp\\ipykernel_18624\\1469312843.py:1: ParserWarning: Falling back to the 'python' engine because the 'c' engine does not support regex separators (separators > 1 char and different from '\\s+' are interpreted as regex); you can avoid this warning by specifying engine='python'.\n",
      "  w2v_df = pd.read_table('./W2V_150.txt', sep=\"  \", skiprows=2, header=None)\n"
     ]
    }
   ],
   "source": [
    "w2v_df = pd.read_table('./W2V_150.txt', sep=\"  \", skiprows=2, header=None)\n",
    "w2v_df.columns = [\"word\", \"vec\"]\n",
    "w2v_df.head(5)\n",
    "X = []\n",
    "for i in range(w2v_df.shape[0]):\n",
    "    word_vec = []\n",
    "    vec = str(w2v_df[\"vec\"].values[i]).split()\n",
    "    for v in vec:\n",
    "        word_vec.append(float(v))\n",
    "    X.append(word_vec)"
   ]
  },
  {
   "cell_type": "markdown",
   "metadata": {},
   "source": [
    "### W2V Model"
   ]
  },
  {
   "cell_type": "code",
   "execution_count": 4,
   "metadata": {},
   "outputs": [],
   "source": [
    "from gensim.models import Word2Vec\n",
    "from gensim.scripts.glove2word2vec import glove2word2vec\n",
    "from gensim.models.keyedvectors import KeyedVectors\n",
    "\n",
    "w2v_model = KeyedVectors.load_word2vec_format(\"W2V_150_2.txt\", no_header=True, binary=False)"
   ]
  },
  {
   "cell_type": "code",
   "execution_count": 5,
   "metadata": {},
   "outputs": [
    {
     "name": "stdout",
     "output_type": "stream",
     "text": [
      "0.8560910075902939\n",
      "0.809864342212677\n",
      "1.0064395498484373\n"
     ]
    }
   ],
   "source": [
    "print(w2v_model.distance('hệ_điều_hành','đồng_cỏ'))\n",
    "print(w2v_model.distance('hệ_điều_hành','máy_vi_tính'))\n",
    "print(w2v_model.distance('hệ_điều_hành','không_thay_đổi'))"
   ]
  },
  {
   "cell_type": "code",
   "execution_count": 6,
   "metadata": {},
   "outputs": [
    {
     "data": {
      "text/plain": [
       "[('sv', 0.7981585264205933),\n",
       " ('du_học_sinh', 0.678442120552063),\n",
       " ('hs-sv', 0.6702901721000671),\n",
       " ('học_viên', 0.6616679430007935),\n",
       " ('lưu_học_sinh', 0.6281952857971191),\n",
       " ('giảng_viên', 0.60367751121521),\n",
       " ('học_sinh', 0.5898551344871521),\n",
       " ('nghiên_cứu_sinh', 0.5815644264221191),\n",
       " ('giáo_viên', 0.568815290927887),\n",
       " ('nam_sinh', 0.5621474981307983)]"
      ]
     },
     "execution_count": 6,
     "metadata": {},
     "output_type": "execute_result"
    }
   ],
   "source": [
    "w2v_model.similar_by_word('sinh_viên')"
   ]
  },
  {
   "cell_type": "code",
   "execution_count": 7,
   "metadata": {},
   "outputs": [
    {
     "data": {
      "text/plain": [
       "[('xanh_lam', 0.8765115737915039),\n",
       " ('sơn_màu', 0.8756780028343201),\n",
       " ('sự_nổi_bật', 0.8618715405464172),\n",
       " ('có_mầu', 0.861246645450592),\n",
       " ('tông_màu', 0.8576458096504211),\n",
       " ('thoang_thoảng', 0.839997410774231),\n",
       " ('sự_mộc_mạc', 0.8358392119407654),\n",
       " ('xanh_lá_cây', 0.8280478119850159),\n",
       " ('đỏ_đậm', 0.823334276676178),\n",
       " ('màu', 0.8232325911521912)]"
      ]
     },
     "execution_count": 7,
     "metadata": {},
     "output_type": "execute_result"
    }
   ],
   "source": [
    "w2v_model.most_similar_cosmul(positive=['một_màu','xanh'],negative=['đỏ'])"
   ]
  },
  {
   "cell_type": "markdown",
   "metadata": {},
   "source": [
    "# 1. Cosine similarity"
   ]
  },
  {
   "cell_type": "markdown",
   "metadata": {},
   "source": [
    "*From sklearn library*"
   ]
  },
  {
   "cell_type": "code",
   "execution_count": 8,
   "metadata": {},
   "outputs": [],
   "source": [
    "from sklearn.metrics.pairwise import cosine_similarity as cos_sim"
   ]
  },
  {
   "cell_type": "code",
   "execution_count": 9,
   "metadata": {},
   "outputs": [
    {
     "name": "stdout",
     "output_type": "stream",
     "text": [
      "[[0.73406833]]\n",
      "[[0.64127283]]\n"
     ]
    }
   ],
   "source": [
    "print(cos_sim([[i for i in (w2v_model.get_vector('lỗ_đen'))]],[X[w2v_model.get_index('hố_đen')]]))\n",
    "print(cos_sim([[i for i in (w2v_model.get_vector('xanh'))]],[X[w2v_model.get_index('đỏ')]]))\n",
    "# print([[i for i in (w2v_model.get_vector('xanh'))]])"
   ]
  },
  {
   "cell_type": "markdown",
   "metadata": {},
   "source": [
    "**Calculate cosine similarity**"
   ]
  },
  {
   "cell_type": "code",
   "execution_count": 10,
   "metadata": {},
   "outputs": [],
   "source": [
    "def cal_cos_sim(x,y):\n",
    "    num = np.dot(x,y) \n",
    "    denom = np.sqrt(np.sum(np.power(x,2))*np.sum(np.power(y,2)))\n",
    "    return(num/denom)"
   ]
  },
  {
   "cell_type": "markdown",
   "metadata": {},
   "source": [
    "High similarity"
   ]
  },
  {
   "cell_type": "code",
   "execution_count": 11,
   "metadata": {},
   "outputs": [
    {
     "name": "stdout",
     "output_type": "stream",
     "text": [
      "0.73406833\n",
      "0.6412728\n"
     ]
    }
   ],
   "source": [
    "print(cal_cos_sim((w2v_model.get_vector('lỗ_đen')),(w2v_model.get_vector('hố_đen'))))\n",
    "print(cal_cos_sim((w2v_model.get_vector('xanh')),(w2v_model.get_vector('đỏ'))))"
   ]
  },
  {
   "cell_type": "markdown",
   "metadata": {},
   "source": [
    "Low similarity"
   ]
  },
  {
   "cell_type": "code",
   "execution_count": 12,
   "metadata": {},
   "outputs": [
    {
     "name": "stdout",
     "output_type": "stream",
     "text": [
      "-0.2847676\n",
      "-0.27114934\n"
     ]
    }
   ],
   "source": [
    "print(cal_cos_sim((w2v_model.get_vector('nan')),(w2v_model.get_vector('được_tôn_trọng'))))\n",
    "print(cal_cos_sim((w2v_model.get_vector('xanh')),(w2v_model.get_vector('ma_chay'))))"
   ]
  },
  {
   "cell_type": "code",
   "execution_count": 13,
   "metadata": {},
   "outputs": [],
   "source": [
    "def cal_cos_sim_word(word1, word2):\n",
    "    word1 = str(word1)\n",
    "    word2 = str(word2)\n",
    "    if not w2v_model.has_index_for(word1) or not w2v_model.has_index_for(word2):\n",
    "        return -1\n",
    "    return cal_cos_sim((w2v_model.get_vector(str(word1))),(w2v_model.get_vector(str(word2))))"
   ]
  },
  {
   "cell_type": "markdown",
   "metadata": {},
   "source": [
    "## ViSim-400"
   ]
  },
  {
   "cell_type": "code",
   "execution_count": 14,
   "metadata": {},
   "outputs": [],
   "source": [
    "visim_df = pd.read_table('./Visim-400.txt', sep='\\t')\n",
    "visim_y = visim_df[\"STD\"].values"
   ]
  },
  {
   "cell_type": "code",
   "execution_count": 15,
   "metadata": {},
   "outputs": [
    {
     "name": "stdout",
     "output_type": "stream",
     "text": [
      "0.14\n",
      "0.31\n"
     ]
    }
   ],
   "source": [
    "y_pred = []\n",
    "threshold = 0.75\n",
    "hit = 0\n",
    "for i in range(visim_df.__len__()):\n",
    "    y_pred.append(cal_cos_sim_word(visim_df[\"Word1\"].values[i],visim_df[\"Word2\"].values[i]))\n",
    "# print(visim_y)\n",
    "# print(y_pred)\n",
    "# print(len(y_pred))\n",
    "for i in range(len(y_pred)):\n",
    "    hit += 1 if ((y_pred[i] >= threshold and visim_y[i] >= threshold) or (y_pred[i] < threshold and visim_y[i] < threshold)) else 0\n",
    "print(y_pred.count(-1)/len(y_pred))\n",
    "print(hit/len(y_pred))"
   ]
  },
  {
   "cell_type": "markdown",
   "metadata": {},
   "source": [
    "# 2. K Nearest"
   ]
  },
  {
   "cell_type": "code",
   "execution_count": 16,
   "metadata": {},
   "outputs": [],
   "source": [
    "from sklearn.neighbors import KNeighborsClassifier\n",
    "from itertools import islice"
   ]
  },
  {
   "cell_type": "markdown",
   "metadata": {},
   "source": [
    "Calculate k nearest words: find k most-similar words"
   ]
  },
  {
   "cell_type": "code",
   "execution_count": 17,
   "metadata": {},
   "outputs": [
    {
     "name": "stdout",
     "output_type": "stream",
     "text": [
      "lỗ_đen 5\n"
     ]
    },
    {
     "data": {
      "text/plain": [
       "[(0.73406833, 'hố_đen'),\n",
       " (0.6743552, 'thiên_thể'),\n",
       " (0.62004215, 'photon'),\n",
       " (0.60821897, 'hành_tinh'),\n",
       " (0.6032495, 'vũ_trụ')]"
      ]
     },
     "execution_count": 17,
     "metadata": {},
     "output_type": "execute_result"
    }
   ],
   "source": [
    "def k_nearest(word, k):\n",
    "    print(word, k)\n",
    "    res = []\n",
    "    # print((w2v_df[\"word\"]))\n",
    "    for w in w2v_df[\"word\"]:\n",
    "        sim_val = cal_cos_sim((w2v_model.get_vector(str(word))),(w2v_model.get_vector(str(w))))\n",
    "        # print(w,sim_val)\n",
    "        res.append((sim_val,str(w)))\n",
    "    res = sorted(res, reverse=True)\n",
    "    return res[1:k+1]\n",
    "\n",
    "k_nearest('lỗ_đen',5)"
   ]
  },
  {
   "cell_type": "markdown",
   "metadata": {},
   "source": [
    "10 nearest words of 'xanh'"
   ]
  },
  {
   "cell_type": "code",
   "execution_count": 18,
   "metadata": {},
   "outputs": [
    {
     "name": "stdout",
     "output_type": "stream",
     "text": [
      "xanh 10\n"
     ]
    },
    {
     "data": {
      "text/plain": [
       "[(0.6412728, 'đỏ'),\n",
       " (0.5846398, 'xanh_lục'),\n",
       " (0.5595949, 'sẫm'),\n",
       " (0.53329074, 'xanh_biếc'),\n",
       " (0.5305078, 'màu_đỏ'),\n",
       " (0.52797484, 'trắng'),\n",
       " (0.5248693, 'đỏ_sẫm'),\n",
       " (0.5110781, 'trắng_trong'),\n",
       " (0.501482, 'xanh_da_trời'),\n",
       " (0.49207163, 'xanh_ngắt')]"
      ]
     },
     "execution_count": 18,
     "metadata": {},
     "output_type": "execute_result"
    }
   ],
   "source": [
    "k_nearest('xanh',10)"
   ]
  },
  {
   "cell_type": "code",
   "execution_count": 19,
   "metadata": {},
   "outputs": [],
   "source": [
    "def k_furthest(word, k):\n",
    "    # print(word, k)\n",
    "    res = []\n",
    "    # print((w2v_df[\"word\"]))\n",
    "    for w in w2v_df[\"word\"]:\n",
    "        sim_val = cal_cos_sim((w2v_model.get_vector(str(word))),(w2v_model.get_vector(str(w))))\n",
    "        # print(w,sim_val)\n",
    "        res.append((sim_val,str(w)))\n",
    "    res = sorted(res)\n",
    "    return res[0:k]"
   ]
  },
  {
   "cell_type": "markdown",
   "metadata": {},
   "source": [
    "# 3. Synonym-antonym classification"
   ]
  },
  {
   "cell_type": "markdown",
   "metadata": {},
   "source": [
    "## Data Processing"
   ]
  },
  {
   "cell_type": "markdown",
   "metadata": {},
   "source": [
    "### Synonym"
   ]
  },
  {
   "cell_type": "code",
   "execution_count": 20,
   "metadata": {},
   "outputs": [
    {
     "data": {
      "text/html": [
       "<div>\n",
       "<style scoped>\n",
       "    .dataframe tbody tr th:only-of-type {\n",
       "        vertical-align: middle;\n",
       "    }\n",
       "\n",
       "    .dataframe tbody tr th {\n",
       "        vertical-align: top;\n",
       "    }\n",
       "\n",
       "    .dataframe thead th {\n",
       "        text-align: right;\n",
       "    }\n",
       "</style>\n",
       "<table border=\"1\" class=\"dataframe\">\n",
       "  <thead>\n",
       "    <tr style=\"text-align: right;\">\n",
       "      <th></th>\n",
       "      <th>Word1</th>\n",
       "      <th>Word2</th>\n",
       "    </tr>\n",
       "  </thead>\n",
       "  <tbody>\n",
       "    <tr>\n",
       "      <th>0</th>\n",
       "      <td>a_dua</td>\n",
       "      <td>a_tòng</td>\n",
       "    </tr>\n",
       "    <tr>\n",
       "      <th>1</th>\n",
       "      <td>a_dua</td>\n",
       "      <td>vào_hùa</td>\n",
       "    </tr>\n",
       "    <tr>\n",
       "      <th>2</th>\n",
       "      <td>a_ma_tơ</td>\n",
       "      <td>tài_tử</td>\n",
       "    </tr>\n",
       "    <tr>\n",
       "      <th>3</th>\n",
       "      <td>a_tòng</td>\n",
       "      <td>vào_hùa</td>\n",
       "    </tr>\n",
       "    <tr>\n",
       "      <th>4</th>\n",
       "      <td>à_ơi</td>\n",
       "      <td>ạ_ơi</td>\n",
       "    </tr>\n",
       "  </tbody>\n",
       "</table>\n",
       "</div>"
      ],
      "text/plain": [
       "     Word1    Word2\n",
       "0    a_dua   a_tòng\n",
       "1    a_dua  vào_hùa\n",
       "2  a_ma_tơ   tài_tử\n",
       "3   a_tòng  vào_hùa\n",
       "4     à_ơi     ạ_ơi"
      ]
     },
     "execution_count": 20,
     "metadata": {},
     "output_type": "execute_result"
    }
   ],
   "source": [
    "syn_df = pd.read_csv('./antonym-synonym set/Synonym_vietnamese.txt',sep=' ', header=None)\n",
    "syn_df.columns = [\"Word1\", \"Word2\"]\n",
    "syn_df.head(5)"
   ]
  },
  {
   "cell_type": "code",
   "execution_count": 21,
   "metadata": {},
   "outputs": [
    {
     "data": {
      "text/plain": [
       "0.4571008476042207"
      ]
     },
     "execution_count": 21,
     "metadata": {},
     "output_type": "execute_result"
    }
   ],
   "source": [
    "y_pred_syn = [cal_cos_sim_word(syn_df[\"Word1\"].values[i], syn_df[\"Word2\"].values[i]) for i in range(syn_df.__len__())]\n",
    "y_pred_syn.count(-1)/len(y_pred_syn)"
   ]
  },
  {
   "cell_type": "markdown",
   "metadata": {},
   "source": [
    "45% synonym words are not in w2v file"
   ]
  },
  {
   "cell_type": "markdown",
   "metadata": {},
   "source": [
    "### Antonym"
   ]
  },
  {
   "cell_type": "code",
   "execution_count": 22,
   "metadata": {},
   "outputs": [
    {
     "data": {
      "text/html": [
       "<div>\n",
       "<style scoped>\n",
       "    .dataframe tbody tr th:only-of-type {\n",
       "        vertical-align: middle;\n",
       "    }\n",
       "\n",
       "    .dataframe tbody tr th {\n",
       "        vertical-align: top;\n",
       "    }\n",
       "\n",
       "    .dataframe thead th {\n",
       "        text-align: right;\n",
       "    }\n",
       "</style>\n",
       "<table border=\"1\" class=\"dataframe\">\n",
       "  <thead>\n",
       "    <tr style=\"text-align: right;\">\n",
       "      <th></th>\n",
       "      <th>Word1</th>\n",
       "      <th>Word2</th>\n",
       "    </tr>\n",
       "  </thead>\n",
       "  <tbody>\n",
       "    <tr>\n",
       "      <th>0</th>\n",
       "      <td>ác</td>\n",
       "      <td>hiền</td>\n",
       "    </tr>\n",
       "    <tr>\n",
       "      <th>1</th>\n",
       "      <td>ác</td>\n",
       "      <td>thiện</td>\n",
       "    </tr>\n",
       "    <tr>\n",
       "      <th>2</th>\n",
       "      <td>ác_cảm</td>\n",
       "      <td>thiện_cảm</td>\n",
       "    </tr>\n",
       "    <tr>\n",
       "      <th>3</th>\n",
       "      <td>ác_độc</td>\n",
       "      <td>hiền_lành</td>\n",
       "    </tr>\n",
       "    <tr>\n",
       "      <th>4</th>\n",
       "      <td>ác_độc</td>\n",
       "      <td>hiền_từ</td>\n",
       "    </tr>\n",
       "  </tbody>\n",
       "</table>\n",
       "</div>"
      ],
      "text/plain": [
       "    Word1      Word2\n",
       "0      ác       hiền\n",
       "1      ác      thiện\n",
       "2  ác_cảm  thiện_cảm\n",
       "3  ác_độc  hiền_lành\n",
       "4  ác_độc    hiền_từ"
      ]
     },
     "execution_count": 22,
     "metadata": {},
     "output_type": "execute_result"
    }
   ],
   "source": [
    "ant_df = pd.read_csv('./antonym-synonym set/Antonym_vietnamese.txt',sep=' ', header=None)\n",
    "ant_df.columns = [\"Word1\", \"Word2\"]\n",
    "ant_df.head(5)"
   ]
  },
  {
   "cell_type": "code",
   "execution_count": 23,
   "metadata": {},
   "outputs": [
    {
     "data": {
      "text/plain": [
       "0.1345"
      ]
     },
     "execution_count": 23,
     "metadata": {},
     "output_type": "execute_result"
    }
   ],
   "source": [
    "y_pred_ant = [cal_cos_sim_word(ant_df[\"Word1\"].values[i], ant_df[\"Word2\"].values[i]) for i in range(ant_df.__len__())]\n",
    "y_pred_ant.count(-1)/len(y_pred_ant)"
   ]
  },
  {
   "cell_type": "markdown",
   "metadata": {},
   "source": [
    "13% antonym words are not in w2v file "
   ]
  },
  {
   "cell_type": "markdown",
   "metadata": {},
   "source": [
    "## Scoring"
   ]
  },
  {
   "cell_type": "markdown",
   "metadata": {},
   "source": [
    "Precision Score"
   ]
  },
  {
   "cell_type": "code",
   "execution_count": 24,
   "metadata": {},
   "outputs": [],
   "source": [
    "def precision_score(y_pred, y_true):\n",
    "    true_pos = 0\n",
    "    false_pos = 0\n",
    "    for i in range(y_true.__len__()):\n",
    "        if (y_pred[i] == y_true[i] == 1):\n",
    "            true_pos += 1\n",
    "        elif (y_true[i] == 0 and y_pred[i] == 1):\n",
    "            false_pos += 1\n",
    "    return true_pos/(true_pos + false_pos)"
   ]
  },
  {
   "cell_type": "markdown",
   "metadata": {},
   "source": [
    "Recall Score"
   ]
  },
  {
   "cell_type": "code",
   "execution_count": 25,
   "metadata": {},
   "outputs": [],
   "source": [
    "def recall_score(y_pred, y_true):\n",
    "    true_pos = 0\n",
    "    false_neg = 0\n",
    "    for i in range(y_true.__len__()):\n",
    "        if (y_pred[i] == y_true[i] == 1):\n",
    "            true_pos += 1\n",
    "        elif (y_true[i] == 1 and y_pred[i] == 0):\n",
    "            false_neg += 1\n",
    "    return true_pos/(true_pos + false_neg)"
   ]
  },
  {
   "cell_type": "markdown",
   "metadata": {},
   "source": [
    "F1 Score"
   ]
  },
  {
   "cell_type": "code",
   "execution_count": 26,
   "metadata": {},
   "outputs": [],
   "source": [
    "def f1_score(y_pred, y_true):\n",
    "    pre = precision_score(y_pred, y_true)\n",
    "    rec = recall_score(y_pred, y_true)\n",
    "    return 2 * (pre * rec) / (pre + rec)"
   ]
  },
  {
   "cell_type": "markdown",
   "metadata": {},
   "source": [
    "Accuracy"
   ]
  },
  {
   "cell_type": "code",
   "execution_count": 27,
   "metadata": {},
   "outputs": [],
   "source": [
    "def accuracy_score(y_pred, y_true):\n",
    "    true_pos = 0\n",
    "    true_neg = 0\n",
    "    for i in range(y_true.__len__()):\n",
    "        if (y_pred[i] == y_true[i] == 1):\n",
    "            true_pos += 1\n",
    "        elif (y_true[i] == 0 and y_pred[i] == 0):\n",
    "            true_neg += 1\n",
    "    return (true_pos + true_neg) / y_true.__len__()"
   ]
  },
  {
   "cell_type": "markdown",
   "metadata": {},
   "source": [
    "## Train"
   ]
  },
  {
   "cell_type": "markdown",
   "metadata": {},
   "source": [
    "### Using GridSearchCV with LinearRegression model\n",
    "```GridSearchCV``` allows cross validation, where dataset is splitted into portions. ```GridSearchCV``` uses ```K-fold``` split, where the model trains on ```k-1``` part of the data and reserves ```1``` part for cross validation. This process is repeated ```K``` times to find the best parameters for the model.\n",
    "\n",
    "[More about GridSearchCV](https://scikit-learn.org/stable/modules/generated/sklearn.model_selection.GridSearchCV.html)\n",
    "\n",
    "```Logistic Regression``` is used to classify the data. ```SYN``` is represented by ```1``` and ```ANT``` is by ```0```.\n",
    "\n",
    "<!-- The [model](#training-model) is here. -->"
   ]
  },
  {
   "cell_type": "code",
   "execution_count": 28,
   "metadata": {},
   "outputs": [],
   "source": [
    "X_train = []\n",
    "y_train = []\n",
    "for i in range(syn_df.__len__()):\n",
    "    if(w2v_model.has_index_for(syn_df[\"Word1\"].values[i]) and w2v_model.has_index_for(syn_df[\"Word2\"].values[i])):\n",
    "        # X_train.append(np.append(w2v_model.get_vector(syn_df[\"Word1\"].values[i]) - [w2v_model.get_index(syn_df[\"Word2\"].values[i]), cal_cos_sim_word(syn_df[\"Word1\"].values[i],syn_df[\"Word2\"].values[i])]))\n",
    "        word1 = syn_df[\"Word1\"].values[i]\n",
    "        word2 = syn_df[\"Word2\"].values[i]\n",
    "        data = np.append(((np.matrix(w2v_model.get_vector(word1)) - np.matrix(w2v_model.get_vector(word2))).A1), [cal_cos_sim_word(word1,word2), w2v_model.distance(word1,word2)])\n",
    "        X_train.append(data)\n",
    "        y_train.append(1)\n",
    "\n",
    "\n",
    "for i in range(ant_df.__len__()):\n",
    "    if(w2v_model.has_index_for(ant_df[\"Word1\"].values[i]) and w2v_model.has_index_for(ant_df[\"Word2\"].values[i])):\n",
    "        word1 = ant_df[\"Word1\"].values[i]\n",
    "        word2 = ant_df[\"Word2\"].values[i]\n",
    "        data = np.append(((np.matrix(w2v_model.get_vector(word1)) - np.matrix(w2v_model.get_vector(word2))).A1), [cal_cos_sim_word(word1,word2), w2v_model.distance(word1,word2)])\n",
    "        X_train.append(data)\n",
    "        y_train.append(0)"
   ]
  },
  {
   "cell_type": "code",
   "execution_count": 29,
   "metadata": {},
   "outputs": [
    {
     "data": {
      "text/html": [
       "<div>\n",
       "<style scoped>\n",
       "    .dataframe tbody tr th:only-of-type {\n",
       "        vertical-align: middle;\n",
       "    }\n",
       "\n",
       "    .dataframe tbody tr th {\n",
       "        vertical-align: top;\n",
       "    }\n",
       "\n",
       "    .dataframe thead th {\n",
       "        text-align: right;\n",
       "    }\n",
       "</style>\n",
       "<table border=\"1\" class=\"dataframe\">\n",
       "  <thead>\n",
       "    <tr style=\"text-align: right;\">\n",
       "      <th></th>\n",
       "      <th>0</th>\n",
       "      <th>1</th>\n",
       "      <th>2</th>\n",
       "      <th>3</th>\n",
       "      <th>4</th>\n",
       "      <th>5</th>\n",
       "      <th>6</th>\n",
       "      <th>7</th>\n",
       "      <th>8</th>\n",
       "      <th>9</th>\n",
       "      <th>...</th>\n",
       "      <th>142</th>\n",
       "      <th>143</th>\n",
       "      <th>144</th>\n",
       "      <th>145</th>\n",
       "      <th>146</th>\n",
       "      <th>147</th>\n",
       "      <th>148</th>\n",
       "      <th>149</th>\n",
       "      <th>150</th>\n",
       "      <th>151</th>\n",
       "    </tr>\n",
       "  </thead>\n",
       "  <tbody>\n",
       "    <tr>\n",
       "      <th>1</th>\n",
       "      <td>-0.928218</td>\n",
       "      <td>-0.385185</td>\n",
       "      <td>1.777838</td>\n",
       "      <td>1.890072</td>\n",
       "      <td>-0.802963</td>\n",
       "      <td>-2.973950</td>\n",
       "      <td>-0.213209</td>\n",
       "      <td>-0.401988</td>\n",
       "      <td>-1.205294</td>\n",
       "      <td>-1.870895</td>\n",
       "      <td>...</td>\n",
       "      <td>-0.233732</td>\n",
       "      <td>-0.553111</td>\n",
       "      <td>0.829941</td>\n",
       "      <td>-1.700927</td>\n",
       "      <td>0.258158</td>\n",
       "      <td>-0.207574</td>\n",
       "      <td>1.343269</td>\n",
       "      <td>0.335742</td>\n",
       "      <td>0.288864</td>\n",
       "      <td>0.711136</td>\n",
       "    </tr>\n",
       "    <tr>\n",
       "      <th>1</th>\n",
       "      <td>0.178174</td>\n",
       "      <td>2.569418</td>\n",
       "      <td>0.293047</td>\n",
       "      <td>1.955840</td>\n",
       "      <td>1.431875</td>\n",
       "      <td>0.817188</td>\n",
       "      <td>-3.124852</td>\n",
       "      <td>-3.800794</td>\n",
       "      <td>0.733388</td>\n",
       "      <td>-0.396096</td>\n",
       "      <td>...</td>\n",
       "      <td>5.413120</td>\n",
       "      <td>1.231402</td>\n",
       "      <td>-0.436597</td>\n",
       "      <td>-1.410038</td>\n",
       "      <td>0.550121</td>\n",
       "      <td>-0.026403</td>\n",
       "      <td>-1.290711</td>\n",
       "      <td>0.421264</td>\n",
       "      <td>0.274868</td>\n",
       "      <td>0.725132</td>\n",
       "    </tr>\n",
       "    <tr>\n",
       "      <th>1</th>\n",
       "      <td>0.080156</td>\n",
       "      <td>-0.560429</td>\n",
       "      <td>0.337595</td>\n",
       "      <td>0.229531</td>\n",
       "      <td>-0.583598</td>\n",
       "      <td>0.633597</td>\n",
       "      <td>-0.354038</td>\n",
       "      <td>1.222823</td>\n",
       "      <td>0.539413</td>\n",
       "      <td>0.924671</td>\n",
       "      <td>...</td>\n",
       "      <td>-1.498061</td>\n",
       "      <td>-0.211129</td>\n",
       "      <td>-0.724569</td>\n",
       "      <td>1.848196</td>\n",
       "      <td>1.158185</td>\n",
       "      <td>-0.237788</td>\n",
       "      <td>0.124224</td>\n",
       "      <td>1.078634</td>\n",
       "      <td>0.689217</td>\n",
       "      <td>0.310783</td>\n",
       "    </tr>\n",
       "    <tr>\n",
       "      <th>1</th>\n",
       "      <td>2.115030</td>\n",
       "      <td>0.433743</td>\n",
       "      <td>-1.358720</td>\n",
       "      <td>-1.330174</td>\n",
       "      <td>-0.408713</td>\n",
       "      <td>0.869569</td>\n",
       "      <td>-1.528072</td>\n",
       "      <td>2.108073</td>\n",
       "      <td>-0.026265</td>\n",
       "      <td>-0.169240</td>\n",
       "      <td>...</td>\n",
       "      <td>0.911754</td>\n",
       "      <td>-0.696353</td>\n",
       "      <td>-0.576246</td>\n",
       "      <td>0.433402</td>\n",
       "      <td>0.794702</td>\n",
       "      <td>0.985866</td>\n",
       "      <td>0.374873</td>\n",
       "      <td>0.023481</td>\n",
       "      <td>0.442920</td>\n",
       "      <td>0.557080</td>\n",
       "    </tr>\n",
       "    <tr>\n",
       "      <th>1</th>\n",
       "      <td>-1.282248</td>\n",
       "      <td>-0.965640</td>\n",
       "      <td>0.450324</td>\n",
       "      <td>0.873514</td>\n",
       "      <td>-2.832006</td>\n",
       "      <td>1.457322</td>\n",
       "      <td>-0.959311</td>\n",
       "      <td>0.066183</td>\n",
       "      <td>2.076099</td>\n",
       "      <td>1.417614</td>\n",
       "      <td>...</td>\n",
       "      <td>0.118243</td>\n",
       "      <td>-2.507002</td>\n",
       "      <td>1.453930</td>\n",
       "      <td>1.968888</td>\n",
       "      <td>-0.876063</td>\n",
       "      <td>0.181683</td>\n",
       "      <td>0.152052</td>\n",
       "      <td>0.000007</td>\n",
       "      <td>0.591152</td>\n",
       "      <td>0.408848</td>\n",
       "    </tr>\n",
       "    <tr>\n",
       "      <th>...</th>\n",
       "      <td>...</td>\n",
       "      <td>...</td>\n",
       "      <td>...</td>\n",
       "      <td>...</td>\n",
       "      <td>...</td>\n",
       "      <td>...</td>\n",
       "      <td>...</td>\n",
       "      <td>...</td>\n",
       "      <td>...</td>\n",
       "      <td>...</td>\n",
       "      <td>...</td>\n",
       "      <td>...</td>\n",
       "      <td>...</td>\n",
       "      <td>...</td>\n",
       "      <td>...</td>\n",
       "      <td>...</td>\n",
       "      <td>...</td>\n",
       "      <td>...</td>\n",
       "      <td>...</td>\n",
       "      <td>...</td>\n",
       "      <td>...</td>\n",
       "    </tr>\n",
       "    <tr>\n",
       "      <th>0</th>\n",
       "      <td>-2.009850</td>\n",
       "      <td>3.685195</td>\n",
       "      <td>-0.451190</td>\n",
       "      <td>1.505435</td>\n",
       "      <td>3.969727</td>\n",
       "      <td>0.908700</td>\n",
       "      <td>1.243413</td>\n",
       "      <td>-0.211787</td>\n",
       "      <td>1.549414</td>\n",
       "      <td>-0.952503</td>\n",
       "      <td>...</td>\n",
       "      <td>-0.690106</td>\n",
       "      <td>-0.480092</td>\n",
       "      <td>-0.726254</td>\n",
       "      <td>-1.101084</td>\n",
       "      <td>-1.483378</td>\n",
       "      <td>0.314636</td>\n",
       "      <td>-0.274222</td>\n",
       "      <td>0.472368</td>\n",
       "      <td>0.383018</td>\n",
       "      <td>0.616982</td>\n",
       "    </tr>\n",
       "    <tr>\n",
       "      <th>0</th>\n",
       "      <td>0.256957</td>\n",
       "      <td>1.926512</td>\n",
       "      <td>-1.484244</td>\n",
       "      <td>2.227939</td>\n",
       "      <td>-1.283928</td>\n",
       "      <td>-0.904757</td>\n",
       "      <td>3.006973</td>\n",
       "      <td>-1.323795</td>\n",
       "      <td>1.945335</td>\n",
       "      <td>-1.043332</td>\n",
       "      <td>...</td>\n",
       "      <td>-0.533479</td>\n",
       "      <td>1.437025</td>\n",
       "      <td>0.681311</td>\n",
       "      <td>0.350230</td>\n",
       "      <td>-0.316768</td>\n",
       "      <td>0.493050</td>\n",
       "      <td>-1.510988</td>\n",
       "      <td>0.165869</td>\n",
       "      <td>0.471292</td>\n",
       "      <td>0.528708</td>\n",
       "    </tr>\n",
       "    <tr>\n",
       "      <th>0</th>\n",
       "      <td>-0.365065</td>\n",
       "      <td>3.659172</td>\n",
       "      <td>-2.171290</td>\n",
       "      <td>1.949037</td>\n",
       "      <td>-0.478396</td>\n",
       "      <td>1.669334</td>\n",
       "      <td>1.345654</td>\n",
       "      <td>-0.413369</td>\n",
       "      <td>1.022013</td>\n",
       "      <td>-1.476738</td>\n",
       "      <td>...</td>\n",
       "      <td>0.210175</td>\n",
       "      <td>1.122025</td>\n",
       "      <td>0.830070</td>\n",
       "      <td>1.801573</td>\n",
       "      <td>-0.936432</td>\n",
       "      <td>-0.813998</td>\n",
       "      <td>-1.684868</td>\n",
       "      <td>0.177833</td>\n",
       "      <td>0.446969</td>\n",
       "      <td>0.553031</td>\n",
       "    </tr>\n",
       "    <tr>\n",
       "      <th>0</th>\n",
       "      <td>0.053572</td>\n",
       "      <td>2.666481</td>\n",
       "      <td>-0.028208</td>\n",
       "      <td>1.563359</td>\n",
       "      <td>-1.257315</td>\n",
       "      <td>2.266086</td>\n",
       "      <td>2.835695</td>\n",
       "      <td>0.771760</td>\n",
       "      <td>2.494303</td>\n",
       "      <td>-0.854036</td>\n",
       "      <td>...</td>\n",
       "      <td>-0.977193</td>\n",
       "      <td>0.757703</td>\n",
       "      <td>1.973597</td>\n",
       "      <td>1.103312</td>\n",
       "      <td>-0.663029</td>\n",
       "      <td>-2.508402</td>\n",
       "      <td>-2.018607</td>\n",
       "      <td>-1.180644</td>\n",
       "      <td>0.479427</td>\n",
       "      <td>0.520573</td>\n",
       "    </tr>\n",
       "    <tr>\n",
       "      <th>0</th>\n",
       "      <td>0.533212</td>\n",
       "      <td>1.284346</td>\n",
       "      <td>-2.843190</td>\n",
       "      <td>0.439768</td>\n",
       "      <td>-0.643563</td>\n",
       "      <td>1.008534</td>\n",
       "      <td>3.612621</td>\n",
       "      <td>-0.150638</td>\n",
       "      <td>1.437334</td>\n",
       "      <td>-0.004719</td>\n",
       "      <td>...</td>\n",
       "      <td>-1.623259</td>\n",
       "      <td>0.422722</td>\n",
       "      <td>2.281890</td>\n",
       "      <td>0.894487</td>\n",
       "      <td>1.414331</td>\n",
       "      <td>-2.217128</td>\n",
       "      <td>-3.043643</td>\n",
       "      <td>-1.013272</td>\n",
       "      <td>0.440044</td>\n",
       "      <td>0.559956</td>\n",
       "    </tr>\n",
       "  </tbody>\n",
       "</table>\n",
       "<p>8004 rows × 152 columns</p>\n",
       "</div>"
      ],
      "text/plain": [
       "         0         1         2         3         4         5         6    \\\n",
       "1  -0.928218 -0.385185  1.777838  1.890072 -0.802963 -2.973950 -0.213209   \n",
       "1   0.178174  2.569418  0.293047  1.955840  1.431875  0.817188 -3.124852   \n",
       "1   0.080156 -0.560429  0.337595  0.229531 -0.583598  0.633597 -0.354038   \n",
       "1   2.115030  0.433743 -1.358720 -1.330174 -0.408713  0.869569 -1.528072   \n",
       "1  -1.282248 -0.965640  0.450324  0.873514 -2.832006  1.457322 -0.959311   \n",
       "..       ...       ...       ...       ...       ...       ...       ...   \n",
       "0  -2.009850  3.685195 -0.451190  1.505435  3.969727  0.908700  1.243413   \n",
       "0   0.256957  1.926512 -1.484244  2.227939 -1.283928 -0.904757  3.006973   \n",
       "0  -0.365065  3.659172 -2.171290  1.949037 -0.478396  1.669334  1.345654   \n",
       "0   0.053572  2.666481 -0.028208  1.563359 -1.257315  2.266086  2.835695   \n",
       "0   0.533212  1.284346 -2.843190  0.439768 -0.643563  1.008534  3.612621   \n",
       "\n",
       "         7         8         9    ...       142       143       144       145  \\\n",
       "1  -0.401988 -1.205294 -1.870895  ... -0.233732 -0.553111  0.829941 -1.700927   \n",
       "1  -3.800794  0.733388 -0.396096  ...  5.413120  1.231402 -0.436597 -1.410038   \n",
       "1   1.222823  0.539413  0.924671  ... -1.498061 -0.211129 -0.724569  1.848196   \n",
       "1   2.108073 -0.026265 -0.169240  ...  0.911754 -0.696353 -0.576246  0.433402   \n",
       "1   0.066183  2.076099  1.417614  ...  0.118243 -2.507002  1.453930  1.968888   \n",
       "..       ...       ...       ...  ...       ...       ...       ...       ...   \n",
       "0  -0.211787  1.549414 -0.952503  ... -0.690106 -0.480092 -0.726254 -1.101084   \n",
       "0  -1.323795  1.945335 -1.043332  ... -0.533479  1.437025  0.681311  0.350230   \n",
       "0  -0.413369  1.022013 -1.476738  ...  0.210175  1.122025  0.830070  1.801573   \n",
       "0   0.771760  2.494303 -0.854036  ... -0.977193  0.757703  1.973597  1.103312   \n",
       "0  -0.150638  1.437334 -0.004719  ... -1.623259  0.422722  2.281890  0.894487   \n",
       "\n",
       "         146       147       148       149       150       151  \n",
       "1   0.258158 -0.207574  1.343269  0.335742  0.288864  0.711136  \n",
       "1   0.550121 -0.026403 -1.290711  0.421264  0.274868  0.725132  \n",
       "1   1.158185 -0.237788  0.124224  1.078634  0.689217  0.310783  \n",
       "1   0.794702  0.985866  0.374873  0.023481  0.442920  0.557080  \n",
       "1  -0.876063  0.181683  0.152052  0.000007  0.591152  0.408848  \n",
       "..       ...       ...       ...       ...       ...       ...  \n",
       "0  -1.483378  0.314636 -0.274222  0.472368  0.383018  0.616982  \n",
       "0  -0.316768  0.493050 -1.510988  0.165869  0.471292  0.528708  \n",
       "0  -0.936432 -0.813998 -1.684868  0.177833  0.446969  0.553031  \n",
       "0  -0.663029 -2.508402 -2.018607 -1.180644  0.479427  0.520573  \n",
       "0   1.414331 -2.217128 -3.043643 -1.013272  0.440044  0.559956  \n",
       "\n",
       "[8004 rows x 152 columns]"
      ]
     },
     "execution_count": 29,
     "metadata": {},
     "output_type": "execute_result"
    }
   ],
   "source": [
    "pd.DataFrame(X_train,y_train)"
   ]
  },
  {
   "cell_type": "markdown",
   "metadata": {},
   "source": [
    "Shuffle training set"
   ]
  },
  {
   "cell_type": "code",
   "execution_count": 30,
   "metadata": {},
   "outputs": [],
   "source": [
    "from sklearn.utils import shuffle\n",
    "\n",
    "X_train, y_train = shuffle(X_train,y_train, random_state = 0)"
   ]
  },
  {
   "cell_type": "code",
   "execution_count": 31,
   "metadata": {},
   "outputs": [
    {
     "data": {
      "text/html": [
       "<div>\n",
       "<style scoped>\n",
       "    .dataframe tbody tr th:only-of-type {\n",
       "        vertical-align: middle;\n",
       "    }\n",
       "\n",
       "    .dataframe tbody tr th {\n",
       "        vertical-align: top;\n",
       "    }\n",
       "\n",
       "    .dataframe thead th {\n",
       "        text-align: right;\n",
       "    }\n",
       "</style>\n",
       "<table border=\"1\" class=\"dataframe\">\n",
       "  <thead>\n",
       "    <tr style=\"text-align: right;\">\n",
       "      <th></th>\n",
       "      <th>0</th>\n",
       "      <th>1</th>\n",
       "      <th>2</th>\n",
       "      <th>3</th>\n",
       "      <th>4</th>\n",
       "      <th>5</th>\n",
       "      <th>6</th>\n",
       "      <th>7</th>\n",
       "      <th>8</th>\n",
       "      <th>9</th>\n",
       "      <th>...</th>\n",
       "      <th>142</th>\n",
       "      <th>143</th>\n",
       "      <th>144</th>\n",
       "      <th>145</th>\n",
       "      <th>146</th>\n",
       "      <th>147</th>\n",
       "      <th>148</th>\n",
       "      <th>149</th>\n",
       "      <th>150</th>\n",
       "      <th>151</th>\n",
       "    </tr>\n",
       "  </thead>\n",
       "  <tbody>\n",
       "    <tr>\n",
       "      <th>1</th>\n",
       "      <td>-0.733735</td>\n",
       "      <td>1.797300</td>\n",
       "      <td>-1.320114</td>\n",
       "      <td>-1.790933</td>\n",
       "      <td>-0.303699</td>\n",
       "      <td>1.079478</td>\n",
       "      <td>1.548357</td>\n",
       "      <td>-0.722256</td>\n",
       "      <td>-1.608632</td>\n",
       "      <td>0.273579</td>\n",
       "      <td>...</td>\n",
       "      <td>0.650019</td>\n",
       "      <td>1.219048</td>\n",
       "      <td>0.116208</td>\n",
       "      <td>0.517957</td>\n",
       "      <td>-0.030667</td>\n",
       "      <td>-0.944132</td>\n",
       "      <td>-0.314809</td>\n",
       "      <td>0.373490</td>\n",
       "      <td>0.227997</td>\n",
       "      <td>0.772003</td>\n",
       "    </tr>\n",
       "    <tr>\n",
       "      <th>1</th>\n",
       "      <td>-0.290836</td>\n",
       "      <td>1.401782</td>\n",
       "      <td>-0.716173</td>\n",
       "      <td>-1.121370</td>\n",
       "      <td>0.112931</td>\n",
       "      <td>-0.010578</td>\n",
       "      <td>0.251863</td>\n",
       "      <td>2.373153</td>\n",
       "      <td>0.442569</td>\n",
       "      <td>-1.689692</td>\n",
       "      <td>...</td>\n",
       "      <td>0.452755</td>\n",
       "      <td>-1.982042</td>\n",
       "      <td>0.833483</td>\n",
       "      <td>-1.816964</td>\n",
       "      <td>-0.195082</td>\n",
       "      <td>-0.973719</td>\n",
       "      <td>-1.632419</td>\n",
       "      <td>2.279999</td>\n",
       "      <td>0.437601</td>\n",
       "      <td>0.562399</td>\n",
       "    </tr>\n",
       "    <tr>\n",
       "      <th>1</th>\n",
       "      <td>2.709668</td>\n",
       "      <td>-0.388378</td>\n",
       "      <td>0.101671</td>\n",
       "      <td>0.683128</td>\n",
       "      <td>-0.061657</td>\n",
       "      <td>0.098064</td>\n",
       "      <td>-0.341945</td>\n",
       "      <td>-0.093155</td>\n",
       "      <td>-0.110636</td>\n",
       "      <td>0.805922</td>\n",
       "      <td>...</td>\n",
       "      <td>-0.783508</td>\n",
       "      <td>1.828357</td>\n",
       "      <td>0.630363</td>\n",
       "      <td>2.098143</td>\n",
       "      <td>0.028243</td>\n",
       "      <td>-0.301803</td>\n",
       "      <td>0.380209</td>\n",
       "      <td>0.616658</td>\n",
       "      <td>0.592245</td>\n",
       "      <td>0.407755</td>\n",
       "    </tr>\n",
       "    <tr>\n",
       "      <th>1</th>\n",
       "      <td>-2.047765</td>\n",
       "      <td>-3.656027</td>\n",
       "      <td>0.728025</td>\n",
       "      <td>-1.411729</td>\n",
       "      <td>0.938142</td>\n",
       "      <td>-1.584644</td>\n",
       "      <td>0.800611</td>\n",
       "      <td>2.838365</td>\n",
       "      <td>-0.247079</td>\n",
       "      <td>1.377212</td>\n",
       "      <td>...</td>\n",
       "      <td>1.834784</td>\n",
       "      <td>-1.880602</td>\n",
       "      <td>1.725105</td>\n",
       "      <td>0.830488</td>\n",
       "      <td>-3.578620</td>\n",
       "      <td>-1.523229</td>\n",
       "      <td>1.760037</td>\n",
       "      <td>0.568448</td>\n",
       "      <td>0.071697</td>\n",
       "      <td>0.928303</td>\n",
       "    </tr>\n",
       "    <tr>\n",
       "      <th>1</th>\n",
       "      <td>0.295622</td>\n",
       "      <td>0.075187</td>\n",
       "      <td>-0.362076</td>\n",
       "      <td>-0.597050</td>\n",
       "      <td>0.265346</td>\n",
       "      <td>-0.006536</td>\n",
       "      <td>0.992311</td>\n",
       "      <td>-0.246451</td>\n",
       "      <td>-0.908586</td>\n",
       "      <td>-0.602080</td>\n",
       "      <td>...</td>\n",
       "      <td>0.311498</td>\n",
       "      <td>-0.821235</td>\n",
       "      <td>-0.903845</td>\n",
       "      <td>0.639025</td>\n",
       "      <td>2.089021</td>\n",
       "      <td>1.827549</td>\n",
       "      <td>0.644193</td>\n",
       "      <td>0.514836</td>\n",
       "      <td>0.456468</td>\n",
       "      <td>0.543532</td>\n",
       "    </tr>\n",
       "    <tr>\n",
       "      <th>...</th>\n",
       "      <td>...</td>\n",
       "      <td>...</td>\n",
       "      <td>...</td>\n",
       "      <td>...</td>\n",
       "      <td>...</td>\n",
       "      <td>...</td>\n",
       "      <td>...</td>\n",
       "      <td>...</td>\n",
       "      <td>...</td>\n",
       "      <td>...</td>\n",
       "      <td>...</td>\n",
       "      <td>...</td>\n",
       "      <td>...</td>\n",
       "      <td>...</td>\n",
       "      <td>...</td>\n",
       "      <td>...</td>\n",
       "      <td>...</td>\n",
       "      <td>...</td>\n",
       "      <td>...</td>\n",
       "      <td>...</td>\n",
       "      <td>...</td>\n",
       "    </tr>\n",
       "    <tr>\n",
       "      <th>1</th>\n",
       "      <td>0.871412</td>\n",
       "      <td>-0.026606</td>\n",
       "      <td>-4.750921</td>\n",
       "      <td>0.981890</td>\n",
       "      <td>2.840273</td>\n",
       "      <td>1.372901</td>\n",
       "      <td>1.913212</td>\n",
       "      <td>-1.797146</td>\n",
       "      <td>0.284190</td>\n",
       "      <td>-0.295446</td>\n",
       "      <td>...</td>\n",
       "      <td>-1.174757</td>\n",
       "      <td>-0.817868</td>\n",
       "      <td>2.928297</td>\n",
       "      <td>1.811674</td>\n",
       "      <td>2.594019</td>\n",
       "      <td>1.611194</td>\n",
       "      <td>-0.435955</td>\n",
       "      <td>0.502361</td>\n",
       "      <td>0.170591</td>\n",
       "      <td>0.829409</td>\n",
       "    </tr>\n",
       "    <tr>\n",
       "      <th>1</th>\n",
       "      <td>1.003751</td>\n",
       "      <td>-0.382406</td>\n",
       "      <td>-1.126672</td>\n",
       "      <td>0.455646</td>\n",
       "      <td>-0.507016</td>\n",
       "      <td>-1.315747</td>\n",
       "      <td>-0.705447</td>\n",
       "      <td>-0.662420</td>\n",
       "      <td>1.243054</td>\n",
       "      <td>-0.394131</td>\n",
       "      <td>...</td>\n",
       "      <td>0.807438</td>\n",
       "      <td>-0.336655</td>\n",
       "      <td>-1.890008</td>\n",
       "      <td>0.806446</td>\n",
       "      <td>1.193509</td>\n",
       "      <td>-0.216587</td>\n",
       "      <td>-1.191279</td>\n",
       "      <td>0.097646</td>\n",
       "      <td>0.477852</td>\n",
       "      <td>0.522148</td>\n",
       "    </tr>\n",
       "    <tr>\n",
       "      <th>1</th>\n",
       "      <td>1.213385</td>\n",
       "      <td>-0.565838</td>\n",
       "      <td>-0.423685</td>\n",
       "      <td>-2.597935</td>\n",
       "      <td>-0.208179</td>\n",
       "      <td>-0.671114</td>\n",
       "      <td>-1.262068</td>\n",
       "      <td>-0.511741</td>\n",
       "      <td>-1.726514</td>\n",
       "      <td>1.517158</td>\n",
       "      <td>...</td>\n",
       "      <td>-0.982464</td>\n",
       "      <td>2.384979</td>\n",
       "      <td>0.184239</td>\n",
       "      <td>2.455589</td>\n",
       "      <td>1.041312</td>\n",
       "      <td>-2.130186</td>\n",
       "      <td>2.339277</td>\n",
       "      <td>1.926712</td>\n",
       "      <td>0.046975</td>\n",
       "      <td>0.953025</td>\n",
       "    </tr>\n",
       "    <tr>\n",
       "      <th>1</th>\n",
       "      <td>-1.150224</td>\n",
       "      <td>-1.301633</td>\n",
       "      <td>1.039014</td>\n",
       "      <td>-1.900237</td>\n",
       "      <td>-0.871319</td>\n",
       "      <td>-0.088779</td>\n",
       "      <td>1.642935</td>\n",
       "      <td>0.270151</td>\n",
       "      <td>1.018297</td>\n",
       "      <td>-4.623357</td>\n",
       "      <td>...</td>\n",
       "      <td>2.161322</td>\n",
       "      <td>0.569177</td>\n",
       "      <td>0.523925</td>\n",
       "      <td>1.213911</td>\n",
       "      <td>-1.983692</td>\n",
       "      <td>-1.569323</td>\n",
       "      <td>1.856557</td>\n",
       "      <td>2.473937</td>\n",
       "      <td>0.072241</td>\n",
       "      <td>0.927759</td>\n",
       "    </tr>\n",
       "    <tr>\n",
       "      <th>1</th>\n",
       "      <td>-0.898950</td>\n",
       "      <td>1.164451</td>\n",
       "      <td>-0.852621</td>\n",
       "      <td>0.195231</td>\n",
       "      <td>-1.768485</td>\n",
       "      <td>1.714777</td>\n",
       "      <td>-0.856678</td>\n",
       "      <td>0.073543</td>\n",
       "      <td>0.834811</td>\n",
       "      <td>-1.196994</td>\n",
       "      <td>...</td>\n",
       "      <td>-0.089589</td>\n",
       "      <td>0.952666</td>\n",
       "      <td>-0.973598</td>\n",
       "      <td>0.649074</td>\n",
       "      <td>1.111055</td>\n",
       "      <td>0.769054</td>\n",
       "      <td>-1.136116</td>\n",
       "      <td>2.858020</td>\n",
       "      <td>0.577238</td>\n",
       "      <td>0.422762</td>\n",
       "    </tr>\n",
       "  </tbody>\n",
       "</table>\n",
       "<p>8004 rows × 152 columns</p>\n",
       "</div>"
      ],
      "text/plain": [
       "         0         1         2         3         4         5         6    \\\n",
       "1  -0.733735  1.797300 -1.320114 -1.790933 -0.303699  1.079478  1.548357   \n",
       "1  -0.290836  1.401782 -0.716173 -1.121370  0.112931 -0.010578  0.251863   \n",
       "1   2.709668 -0.388378  0.101671  0.683128 -0.061657  0.098064 -0.341945   \n",
       "1  -2.047765 -3.656027  0.728025 -1.411729  0.938142 -1.584644  0.800611   \n",
       "1   0.295622  0.075187 -0.362076 -0.597050  0.265346 -0.006536  0.992311   \n",
       "..       ...       ...       ...       ...       ...       ...       ...   \n",
       "1   0.871412 -0.026606 -4.750921  0.981890  2.840273  1.372901  1.913212   \n",
       "1   1.003751 -0.382406 -1.126672  0.455646 -0.507016 -1.315747 -0.705447   \n",
       "1   1.213385 -0.565838 -0.423685 -2.597935 -0.208179 -0.671114 -1.262068   \n",
       "1  -1.150224 -1.301633  1.039014 -1.900237 -0.871319 -0.088779  1.642935   \n",
       "1  -0.898950  1.164451 -0.852621  0.195231 -1.768485  1.714777 -0.856678   \n",
       "\n",
       "         7         8         9    ...       142       143       144       145  \\\n",
       "1  -0.722256 -1.608632  0.273579  ...  0.650019  1.219048  0.116208  0.517957   \n",
       "1   2.373153  0.442569 -1.689692  ...  0.452755 -1.982042  0.833483 -1.816964   \n",
       "1  -0.093155 -0.110636  0.805922  ... -0.783508  1.828357  0.630363  2.098143   \n",
       "1   2.838365 -0.247079  1.377212  ...  1.834784 -1.880602  1.725105  0.830488   \n",
       "1  -0.246451 -0.908586 -0.602080  ...  0.311498 -0.821235 -0.903845  0.639025   \n",
       "..       ...       ...       ...  ...       ...       ...       ...       ...   \n",
       "1  -1.797146  0.284190 -0.295446  ... -1.174757 -0.817868  2.928297  1.811674   \n",
       "1  -0.662420  1.243054 -0.394131  ...  0.807438 -0.336655 -1.890008  0.806446   \n",
       "1  -0.511741 -1.726514  1.517158  ... -0.982464  2.384979  0.184239  2.455589   \n",
       "1   0.270151  1.018297 -4.623357  ...  2.161322  0.569177  0.523925  1.213911   \n",
       "1   0.073543  0.834811 -1.196994  ... -0.089589  0.952666 -0.973598  0.649074   \n",
       "\n",
       "         146       147       148       149       150       151  \n",
       "1  -0.030667 -0.944132 -0.314809  0.373490  0.227997  0.772003  \n",
       "1  -0.195082 -0.973719 -1.632419  2.279999  0.437601  0.562399  \n",
       "1   0.028243 -0.301803  0.380209  0.616658  0.592245  0.407755  \n",
       "1  -3.578620 -1.523229  1.760037  0.568448  0.071697  0.928303  \n",
       "1   2.089021  1.827549  0.644193  0.514836  0.456468  0.543532  \n",
       "..       ...       ...       ...       ...       ...       ...  \n",
       "1   2.594019  1.611194 -0.435955  0.502361  0.170591  0.829409  \n",
       "1   1.193509 -0.216587 -1.191279  0.097646  0.477852  0.522148  \n",
       "1   1.041312 -2.130186  2.339277  1.926712  0.046975  0.953025  \n",
       "1  -1.983692 -1.569323  1.856557  2.473937  0.072241  0.927759  \n",
       "1   1.111055  0.769054 -1.136116  2.858020  0.577238  0.422762  \n",
       "\n",
       "[8004 rows x 152 columns]"
      ]
     },
     "execution_count": 31,
     "metadata": {},
     "output_type": "execute_result"
    }
   ],
   "source": [
    "pd.DataFrame(X_train,y_train)"
   ]
  },
  {
   "cell_type": "markdown",
   "metadata": {},
   "source": [
    "### Training model"
   ]
  },
  {
   "cell_type": "code",
   "execution_count": 32,
   "metadata": {},
   "outputs": [],
   "source": [
    "from sklearn.model_selection import GridSearchCV\n",
    "from sklearn.linear_model import LogisticRegression"
   ]
  },
  {
   "cell_type": "code",
   "execution_count": 33,
   "metadata": {},
   "outputs": [
    {
     "data": {
      "text/html": [
       "<style>#sk-container-id-1 {color: black;background-color: white;}#sk-container-id-1 pre{padding: 0;}#sk-container-id-1 div.sk-toggleable {background-color: white;}#sk-container-id-1 label.sk-toggleable__label {cursor: pointer;display: block;width: 100%;margin-bottom: 0;padding: 0.3em;box-sizing: border-box;text-align: center;}#sk-container-id-1 label.sk-toggleable__label-arrow:before {content: \"▸\";float: left;margin-right: 0.25em;color: #696969;}#sk-container-id-1 label.sk-toggleable__label-arrow:hover:before {color: black;}#sk-container-id-1 div.sk-estimator:hover label.sk-toggleable__label-arrow:before {color: black;}#sk-container-id-1 div.sk-toggleable__content {max-height: 0;max-width: 0;overflow: hidden;text-align: left;background-color: #f0f8ff;}#sk-container-id-1 div.sk-toggleable__content pre {margin: 0.2em;color: black;border-radius: 0.25em;background-color: #f0f8ff;}#sk-container-id-1 input.sk-toggleable__control:checked~div.sk-toggleable__content {max-height: 200px;max-width: 100%;overflow: auto;}#sk-container-id-1 input.sk-toggleable__control:checked~label.sk-toggleable__label-arrow:before {content: \"▾\";}#sk-container-id-1 div.sk-estimator input.sk-toggleable__control:checked~label.sk-toggleable__label {background-color: #d4ebff;}#sk-container-id-1 div.sk-label input.sk-toggleable__control:checked~label.sk-toggleable__label {background-color: #d4ebff;}#sk-container-id-1 input.sk-hidden--visually {border: 0;clip: rect(1px 1px 1px 1px);clip: rect(1px, 1px, 1px, 1px);height: 1px;margin: -1px;overflow: hidden;padding: 0;position: absolute;width: 1px;}#sk-container-id-1 div.sk-estimator {font-family: monospace;background-color: #f0f8ff;border: 1px dotted black;border-radius: 0.25em;box-sizing: border-box;margin-bottom: 0.5em;}#sk-container-id-1 div.sk-estimator:hover {background-color: #d4ebff;}#sk-container-id-1 div.sk-parallel-item::after {content: \"\";width: 100%;border-bottom: 1px solid gray;flex-grow: 1;}#sk-container-id-1 div.sk-label:hover label.sk-toggleable__label {background-color: #d4ebff;}#sk-container-id-1 div.sk-serial::before {content: \"\";position: absolute;border-left: 1px solid gray;box-sizing: border-box;top: 0;bottom: 0;left: 50%;z-index: 0;}#sk-container-id-1 div.sk-serial {display: flex;flex-direction: column;align-items: center;background-color: white;padding-right: 0.2em;padding-left: 0.2em;position: relative;}#sk-container-id-1 div.sk-item {position: relative;z-index: 1;}#sk-container-id-1 div.sk-parallel {display: flex;align-items: stretch;justify-content: center;background-color: white;position: relative;}#sk-container-id-1 div.sk-item::before, #sk-container-id-1 div.sk-parallel-item::before {content: \"\";position: absolute;border-left: 1px solid gray;box-sizing: border-box;top: 0;bottom: 0;left: 50%;z-index: -1;}#sk-container-id-1 div.sk-parallel-item {display: flex;flex-direction: column;z-index: 1;position: relative;background-color: white;}#sk-container-id-1 div.sk-parallel-item:first-child::after {align-self: flex-end;width: 50%;}#sk-container-id-1 div.sk-parallel-item:last-child::after {align-self: flex-start;width: 50%;}#sk-container-id-1 div.sk-parallel-item:only-child::after {width: 0;}#sk-container-id-1 div.sk-dashed-wrapped {border: 1px dashed gray;margin: 0 0.4em 0.5em 0.4em;box-sizing: border-box;padding-bottom: 0.4em;background-color: white;}#sk-container-id-1 div.sk-label label {font-family: monospace;font-weight: bold;display: inline-block;line-height: 1.2em;}#sk-container-id-1 div.sk-label-container {text-align: center;}#sk-container-id-1 div.sk-container {/* jupyter's `normalize.less` sets `[hidden] { display: none; }` but bootstrap.min.css set `[hidden] { display: none !important; }` so we also need the `!important` here to be able to override the default hidden behavior on the sphinx rendered scikit-learn.org. See: https://github.com/scikit-learn/scikit-learn/issues/21755 */display: inline-block !important;position: relative;}#sk-container-id-1 div.sk-text-repr-fallback {display: none;}</style><div id=\"sk-container-id-1\" class=\"sk-top-container\"><div class=\"sk-text-repr-fallback\"><pre>GridSearchCV(cv=10, estimator=LogisticRegression(max_iter=1000), n_jobs=-1,\n",
       "             param_grid={&#x27;class_weight&#x27;: [{0: 3, 1: 1}]},\n",
       "             return_train_score=True)</pre><b>In a Jupyter environment, please rerun this cell to show the HTML representation or trust the notebook. <br />On GitHub, the HTML representation is unable to render, please try loading this page with nbviewer.org.</b></div><div class=\"sk-container\" hidden><div class=\"sk-item sk-dashed-wrapped\"><div class=\"sk-label-container\"><div class=\"sk-label sk-toggleable\"><input class=\"sk-toggleable__control sk-hidden--visually\" id=\"sk-estimator-id-1\" type=\"checkbox\" ><label for=\"sk-estimator-id-1\" class=\"sk-toggleable__label sk-toggleable__label-arrow\">GridSearchCV</label><div class=\"sk-toggleable__content\"><pre>GridSearchCV(cv=10, estimator=LogisticRegression(max_iter=1000), n_jobs=-1,\n",
       "             param_grid={&#x27;class_weight&#x27;: [{0: 3, 1: 1}]},\n",
       "             return_train_score=True)</pre></div></div></div><div class=\"sk-parallel\"><div class=\"sk-parallel-item\"><div class=\"sk-item\"><div class=\"sk-label-container\"><div class=\"sk-label sk-toggleable\"><input class=\"sk-toggleable__control sk-hidden--visually\" id=\"sk-estimator-id-2\" type=\"checkbox\" ><label for=\"sk-estimator-id-2\" class=\"sk-toggleable__label sk-toggleable__label-arrow\">estimator: LogisticRegression</label><div class=\"sk-toggleable__content\"><pre>LogisticRegression(max_iter=1000)</pre></div></div></div><div class=\"sk-serial\"><div class=\"sk-item\"><div class=\"sk-estimator sk-toggleable\"><input class=\"sk-toggleable__control sk-hidden--visually\" id=\"sk-estimator-id-3\" type=\"checkbox\" ><label for=\"sk-estimator-id-3\" class=\"sk-toggleable__label sk-toggleable__label-arrow\">LogisticRegression</label><div class=\"sk-toggleable__content\"><pre>LogisticRegression(max_iter=1000)</pre></div></div></div></div></div></div></div></div></div></div>"
      ],
      "text/plain": [
       "GridSearchCV(cv=10, estimator=LogisticRegression(max_iter=1000), n_jobs=-1,\n",
       "             param_grid={'class_weight': [{0: 3, 1: 1}]},\n",
       "             return_train_score=True)"
      ]
     },
     "execution_count": 33,
     "metadata": {},
     "output_type": "execute_result"
    }
   ],
   "source": [
    "grid = GridSearchCV(\n",
    "    estimator=LogisticRegression(max_iter=1000),\n",
    "    param_grid = {'class_weight':[{0:3,1:1}]},\n",
    "    cv = 10,\n",
    "    n_jobs = -1,\n",
    "    return_train_score=True,\n",
    ")\n",
    "grid.fit(X_train,y_train)"
   ]
  },
  {
   "cell_type": "code",
   "execution_count": 34,
   "metadata": {},
   "outputs": [],
   "source": [
    "def predict(word1, word2):\n",
    "    # X = [np.append(w2v_model.get_vector(word1), [w2v_model.get_index(word2), cal_cos_sim_word(word1,word2)])]\n",
    "    if(w2v_model.has_index_for(word1) and w2v_model.has_index_for(word2)):\n",
    "        X = [np.append(((np.matrix(w2v_model.get_vector(word1)) - np.matrix(w2v_model.get_vector(word2))).A1), [cal_cos_sim_word(word1,word2), w2v_model.distance(word1,word2)])]\n",
    "        return grid.predict(X)[0]\n",
    "    else:\n",
    "        return -1"
   ]
  },
  {
   "cell_type": "code",
   "execution_count": 76,
   "metadata": {},
   "outputs": [],
   "source": [
    "# word = 'xanh'\n",
    "# print(k_furthest(word,5))\n",
    "# print(k_nearest(word,5))"
   ]
  },
  {
   "cell_type": "code",
   "execution_count": 77,
   "metadata": {},
   "outputs": [],
   "source": [
    "# word = 'khéo'\n",
    "# print(predict(word,'vụng'))\n",
    "# print(predict(word,'vẻ'))"
   ]
  },
  {
   "cell_type": "markdown",
   "metadata": {},
   "source": [
    "## Test"
   ]
  },
  {
   "cell_type": "code",
   "execution_count": 37,
   "metadata": {},
   "outputs": [],
   "source": [
    "file_paths = [\"./ViCon-400/400_noun_pairs.txt\", \"./ViCon-400/400_verb_pairs.txt\", \"./ViCon-400/600_adj_pairs.txt\"]"
   ]
  },
  {
   "cell_type": "code",
   "execution_count": 38,
   "metadata": {},
   "outputs": [],
   "source": [
    "# grid = GridSearchCV(\n",
    "#     estimator=LogisticRegression(max_iter=1000),\n",
    "#     # param_grid = {'class_weight':[{0:v,1:1} for v in range(1,20)]},\n",
    "#     param_grid = {'class_weight':[{0:3,1:1}]},\n",
    "#     cv = 10,\n",
    "#     n_jobs = -1,\n",
    "#     return_train_score=True,\n",
    "# )\n",
    "# grid.fit(X_train,y_train)"
   ]
  },
  {
   "cell_type": "code",
   "execution_count": 75,
   "metadata": {},
   "outputs": [
    {
     "name": "stdout",
     "output_type": "stream",
     "text": [
      "        Word1     Word2 Relation\n",
      "0   khoái_lạc   nỗi_đau      ANT\n",
      "1     yếu_kém  sức_mạnh      ANT\n",
      "2  thanh_danh    ô_nhục      ANT\n",
      "3         dây       dọc      SYN\n",
      "precision_score: 0.6594594594594595\n",
      "recall_score: 0.7922077922077922\n",
      "f1_score: 0.7197640117994101\n",
      "accuracy_score: 0.5775\n",
      "        Word1      Word2 Relation\n",
      "0  giải_thoát   thi_hành      ANT\n",
      "1     kìm_giữ  trói_buộc      SYN\n",
      "2     gây_lộn     gây_sự      SYN\n",
      "3         lầm       nhầm      SYN\n",
      "precision_score: 0.6216216216216216\n",
      "recall_score: 0.7516339869281046\n",
      "f1_score: 0.6804733727810651\n",
      "accuracy_score: 0.575\n",
      "        Word1     Word2 Relation\n",
      "0     hời_hợt  nông_cạn      SYN\n",
      "1  thảnh_thơi     ưu_tư      ANT\n",
      "2       vô_lý     có_lí      ANT\n",
      "3    cuồng_nộ   phẫn_nộ      SYN\n",
      "precision_score: 0.6334519572953736\n",
      "recall_score: 0.7841409691629956\n",
      "f1_score: 0.7007874015748032\n",
      "accuracy_score: 0.595\n"
     ]
    }
   ],
   "source": [
    "unknown = 0\n",
    "total_words = 0\n",
    "for path in file_paths:\n",
    "    df = pd.read_csv(path,sep='\\t')\n",
    "    y_test = []\n",
    "    y_pred = []\n",
    "    for rel in df[\"Relation\"].values:\n",
    "        y_test.append(1 if rel == \"SYN\" else 0)\n",
    "    for i in range(df[\"Relation\"].__len__()):\n",
    "        y_pred.append(predict(df[\"Word1\"].values[i],df[\"Word2\"].values[i]))\n",
    "        # print(i) if y_pred[i] ==-1 else None\n",
    "    print(df.head(4))\n",
    "    # print(np.array(y_test))\n",
    "    # print(np.array(y_pred))\n",
    "    print('precision_score:',precision_score(y_pred, y_test))\n",
    "    print('recall_score:',recall_score(y_pred, y_test))\n",
    "    print('f1_score:',f1_score(y_pred, y_test))\n",
    "    print('accuracy_score:',accuracy_score(y_pred, y_test))\n",
    "    unknown += y_pred.count(-1)\n",
    "    total_words += df.shape[0]"
   ]
  },
  {
   "cell_type": "markdown",
   "metadata": {},
   "source": [
    "Number of unknown words:"
   ]
  },
  {
   "cell_type": "code",
   "execution_count": 40,
   "metadata": {},
   "outputs": [
    {
     "name": "stdout",
     "output_type": "stream",
     "text": [
      "227\n",
      "0.16214285714285714\n"
     ]
    }
   ],
   "source": [
    "print(unknown)\n",
    "print(unknown / total_words)"
   ]
  },
  {
   "cell_type": "markdown",
   "metadata": {},
   "source": [
    "Wrong classification"
   ]
  },
  {
   "cell_type": "code",
   "execution_count": 74,
   "metadata": {},
   "outputs": [
    {
     "name": "stdout",
     "output_type": "stream",
     "text": [
      "hèn can_đảm 1 0\n",
      "ướt_rượt ướt_sũng -1 1\n"
     ]
    }
   ],
   "source": [
    "wrong_classifications=[101,242]\n",
    "for n in wrong_classifications:\n",
    "    print(df[\"Word1\"].values[n], df[\"Word2\"].values[n], y_pred[n], y_test[n])"
   ]
  },
  {
   "cell_type": "markdown",
   "metadata": {},
   "source": [
    "Explanation\n",
    "\n",
    "- When ```n = 101```, the words are *\"hèn\"* and *\"can_đảm\"*, which are antonyms, so the right output should be ```0```. But the model gives the prediction of ```1``` (synonym)\n",
    "\n",
    "- When ```n = 242```, the words are *\"ướt_rượt\"* and *\"ướt_sũng\"*, which are synonyms, so the right output should be ```1```. But the model gives the prediction of ```-1``` due to the fact that word2vec model doesn't have either or both of the words "
   ]
  },
  {
   "cell_type": "markdown",
   "metadata": {},
   "source": [
    "### Test weights"
   ]
  },
  {
   "cell_type": "code",
   "execution_count": 41,
   "metadata": {},
   "outputs": [],
   "source": [
    "def predict_model_test(word1, word2, gridsearchcv):\n",
    "    # X = [np.append(w2v_model.get_vector(word1), [w2v_model.get_index(word2), cal_cos_sim_word(word1,word2)])]\n",
    "    if(w2v_model.has_index_for(word1) and w2v_model.has_index_for(word2)):\n",
    "        X = [np.append(((np.matrix(w2v_model.get_vector(word1)) - np.matrix(w2v_model.get_vector(word2))).A1), [cal_cos_sim_word(word1,word2), w2v_model.distance(word1,word2)])]\n",
    "        return gridsearchcv.predict(X)[0]\n",
    "    else:\n",
    "        return -1"
   ]
  },
  {
   "cell_type": "code",
   "execution_count": 42,
   "metadata": {},
   "outputs": [
    {
     "data": {
      "image/png": "[encoded data removed]",
      "text/plain": [
       "<Figure size 1500x400 with 1 Axes>"
      ]
     },
     "metadata": {},
     "output_type": "display_data"
    },
    {
     "data": {
      "image/png": "[encoded data removed]",
      "text/plain": [
       "<Figure size 1500x400 with 1 Axes>"
      ]
     },
     "metadata": {},
     "output_type": "display_data"
    },
    {
     "data": {
      "image/png": "[encoded data removed]",
      "text/plain": [
       "<Figure size 1500x400 with 1 Axes>"
      ]
     },
     "metadata": {},
     "output_type": "display_data"
    }
   ],
   "source": [
    "def test_weights(path):\n",
    "    datum = []\n",
    "    for i in range(0,100,5):\n",
    "        w = i/10\n",
    "        data = {}\n",
    "        data['weight'] = w\n",
    "        grid = GridSearchCV(\n",
    "            estimator=LogisticRegression(max_iter=1000),\n",
    "            param_grid = {'class_weight':[{0:w,1:1}]},\n",
    "            cv = 10,\n",
    "            n_jobs = -1,\n",
    "            return_train_score=True,\n",
    "        )\n",
    "        grid.fit(X_train,y_train)\n",
    "        df = pd.read_csv(path,sep='\\t')\n",
    "        y_test = []\n",
    "        y_pred = []\n",
    "        for rel in df[\"Relation\"].values:\n",
    "            y_test.append(1 if rel == \"SYN\" else 0)\n",
    "        for i in range(df[\"Relation\"].__len__()):\n",
    "            y_pred.append(predict_model_test(df[\"Word1\"].values[i],df[\"Word2\"].values[i], grid))\n",
    "        data['precision_score'] = precision_score(y_pred, y_test)\n",
    "        data['recall_score'] = recall_score(y_pred, y_test)\n",
    "        data['f1_score'] = f1_score(y_pred, y_test)\n",
    "        data['accuracy_score'] = accuracy_score(y_pred, y_test)\n",
    "        datum.append(data)\n",
    "    plt.figure(figsize=(15,4))\n",
    "    plt.plot([data['weight'] for data in datum],[[data['recall_score'],data['precision_score'],data['f1_score']] for data in datum])\n",
    "    plt.plot([data['weight'] for data in datum],[[data['accuracy_score']] for data in datum], label = str(path)[12:])\n",
    "    plt.legend()\n",
    "\n",
    "for path in file_paths:\n",
    "    test_weights(path)\n"
   ]
  }
 ],
 "metadata": {
  "kernelspec": {
   "display_name": "Python 3",
   "language": "python",
   "name": "python3"
  },
  "language_info": {
   "codemirror_mode": {
    "name": "ipython",
    "version": 3
   },
   "file_extension": ".py",
   "mimetype": "text/x-python",
   "name": "python",
   "nbconvert_exporter": "python",
   "pygments_lexer": "ipython3",
   "version": "3.10.7"
  },
  "orig_nbformat": 4,
  "vscode": {
   "interpreter": {
    "hash": "369f2c481f4da34e4445cda3fffd2e751bd1c4d706f27375911949ba6bb62e1c"
   }
  }
 },
 "nbformat": 4,
 "nbformat_minor": 2
}
